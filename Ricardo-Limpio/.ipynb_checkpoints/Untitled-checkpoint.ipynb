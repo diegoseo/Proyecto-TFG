{
 "cells": [
  {
   "cell_type": "markdown",
   "id": "df846436-a268-4430-b8f4-3c50cc259651",
   "metadata": {},
   "source": [
    "Lectura del archivo "
   ]
  },
  {
   "cell_type": "code",
   "execution_count": 1,
   "id": "4fa571b6-8dae-4eab-985e-144cd81872bf",
   "metadata": {},
   "outputs": [
    {
     "name": "stdout",
     "output_type": "stream",
     "text": [
      "         0  collagen  collagen.1  collagen.2  collagen.3  collagen.4  \\\n",
      "0  1801.26     0.117       0.123       0.098       0.097       0.115   \n",
      "1  1797.41     0.118       0.124       0.099       0.098       0.116   \n",
      "2  1793.55     0.119       0.124       0.100       0.098       0.117   \n",
      "3  1789.69     0.118       0.122       0.099       0.097       0.117   \n",
      "4  1785.84     0.118       0.121       0.099       0.096       0.116   \n",
      "\n",
      "   collagen.5  collagen.6  collagen.7  collagen.8  ...  DNA.100  DNA.101  \\\n",
      "0       0.129       0.130       0.144       0.129  ...    0.154    0.150   \n",
      "1       0.130       0.131       0.145       0.129  ...    0.154    0.152   \n",
      "2       0.131       0.132       0.145       0.130  ...    0.155    0.153   \n",
      "3       0.131       0.132       0.146       0.131  ...    0.155    0.154   \n",
      "4       0.130       0.131       0.146       0.131  ...    0.155    0.155   \n",
      "\n",
      "   DNA.102  DNA.103  DNA.104  DNA.105  DNA.106  DNA.107  DNA.108  DNA.109  \n",
      "0    0.154    0.164    0.157    0.158    0.152    0.147    0.139    0.148  \n",
      "1    0.155    0.164    0.158    0.160    0.153    0.147    0.140    0.149  \n",
      "2    0.156    0.165    0.160    0.161    0.154    0.148    0.141    0.150  \n",
      "3    0.157    0.165    0.160    0.163    0.155    0.149    0.142    0.151  \n",
      "4    0.157    0.166    0.160    0.163    0.155    0.149    0.143    0.151  \n",
      "\n",
      "[5 rows x 732 columns]\n"
     ]
    }
   ],
   "source": [
    "import pandas as pd\n",
    "df = pd.read_csv('limpio.csv', delimiter = ',')\n",
    "# Muestra las primeras filas del DataFrame\n",
    "print(df.head())"
   ]
  },
  {
   "cell_type": "code",
   "execution_count": null,
   "id": "61d9c8a1-ed24-434c-9b4d-5fedeffc340c",
   "metadata": {},
   "outputs": [],
   "source": []
  }
 ],
 "metadata": {
  "kernelspec": {
   "display_name": "Python 3 (ipykernel)",
   "language": "python",
   "name": "python3"
  },
  "language_info": {
   "codemirror_mode": {
    "name": "ipython",
    "version": 3
   },
   "file_extension": ".py",
   "mimetype": "text/x-python",
   "name": "python",
   "nbconvert_exporter": "python",
   "pygments_lexer": "ipython3",
   "version": "3.12.5"
  }
 },
 "nbformat": 4,
 "nbformat_minor": 5
}
