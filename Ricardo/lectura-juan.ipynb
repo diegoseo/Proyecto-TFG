{
 "cells": [
  {
   "cell_type": "markdown",
   "id": "170103b0",
   "metadata": {},
   "source": [
    "        Lectura del archivo csv "
   ]
  },
  {
   "cell_type": "code",
   "execution_count": 6,
   "id": "696c7108",
   "metadata": {},
   "outputs": [
    {
     "name": "stdout",
     "output_type": "stream",
     "text": [
      "         0  collagen  collagen.1  collagen.2  collagen.3  collagen.4  \\\n",
      "0  1801.26     0.117       0.123       0.098       0.097       0.115   \n",
      "1  1797.41     0.118       0.124       0.099       0.098       0.116   \n",
      "2  1793.55     0.119       0.124       0.100       0.098       0.117   \n",
      "3  1789.69     0.118       0.122       0.099       0.097       0.117   \n",
      "4  1785.84     0.118       0.121       0.099       0.096       0.116   \n",
      "\n",
      "   collagen.5  collagen.6  collagen.7  collagen.8  ...  DNA.100  DNA.101  \\\n",
      "0       0.129       0.130       0.144       0.129  ...    0.154    0.150   \n",
      "1       0.130       0.131       0.145       0.129  ...    0.154    0.152   \n",
      "2       0.131       0.132       0.145       0.130  ...    0.155    0.153   \n",
      "3       0.131       0.132       0.146       0.131  ...    0.155    0.154   \n",
      "4       0.130       0.131       0.146       0.131  ...    0.155    0.155   \n",
      "\n",
      "   DNA.102  DNA.103  DNA.104  DNA.105  DNA.106  DNA.107  DNA.108  DNA.109  \n",
      "0    0.154    0.164    0.157    0.158    0.152    0.147    0.139    0.148  \n",
      "1    0.155    0.164    0.158    0.160    0.153    0.147    0.140    0.149  \n",
      "2    0.156    0.165    0.160    0.161    0.154    0.148    0.141    0.150  \n",
      "3    0.157    0.165    0.160    0.163    0.155    0.149    0.142    0.151  \n",
      "4    0.157    0.166    0.160    0.163    0.155    0.149    0.143    0.151  \n",
      "\n",
      "[5 rows x 732 columns]\n"
     ]
    }
   ],
   "source": [
    "import pandas as pd\n",
    "\n",
    "# Lee el archivo CSV\n",
    "df = pd.read_csv('limpio.csv')\n",
    "\n",
    "# Muestra las primeras filas del DataFrame para verificar\n",
    "print(df.head())\n"
   ]
  },
  {
   "cell_type": "markdown",
   "id": "37d2e095",
   "metadata": {},
   "source": [
    "    Verificamos si se tiene los subfijos al leer el archivo"
   ]
  },
  {
   "cell_type": "code",
   "execution_count": 9,
   "id": "6da0c3c6",
   "metadata": {},
   "outputs": [
    {
     "name": "stdout",
     "output_type": "stream",
     "text": [
      "Se eliminaron los sufijos numéricos de los encabezados.\n",
      "         0  collagen  collagen  collagen  collagen  collagen  collagen  \\\n",
      "0  1801.26     0.117     0.123     0.098     0.097     0.115     0.129   \n",
      "1  1797.41     0.118     0.124     0.099     0.098     0.116     0.130   \n",
      "2  1793.55     0.119     0.124     0.100     0.098     0.117     0.131   \n",
      "3  1789.69     0.118     0.122     0.099     0.097     0.117     0.131   \n",
      "4  1785.84     0.118     0.121     0.099     0.096     0.116     0.130   \n",
      "\n",
      "   collagen  collagen  collagen  ...    DNA    DNA    DNA    DNA    DNA  \\\n",
      "0     0.130     0.144     0.129  ...  0.154  0.150  0.154  0.164  0.157   \n",
      "1     0.131     0.145     0.129  ...  0.154  0.152  0.155  0.164  0.158   \n",
      "2     0.132     0.145     0.130  ...  0.155  0.153  0.156  0.165  0.160   \n",
      "3     0.132     0.146     0.131  ...  0.155  0.154  0.157  0.165  0.160   \n",
      "4     0.131     0.146     0.131  ...  0.155  0.155  0.157  0.166  0.160   \n",
      "\n",
      "     DNA    DNA    DNA    DNA    DNA  \n",
      "0  0.158  0.152  0.147  0.139  0.148  \n",
      "1  0.160  0.153  0.147  0.140  0.149  \n",
      "2  0.161  0.154  0.148  0.141  0.150  \n",
      "3  0.163  0.155  0.149  0.142  0.151  \n",
      "4  0.163  0.155  0.149  0.143  0.151  \n",
      "\n",
      "[5 rows x 732 columns]\n"
     ]
    }
   ],
   "source": [
    "import re #regex para validar si existe subfijos\n",
    "\n",
    "if any(re.search(r'\\.\\d+$', col) for col in df.columns):\n",
    "    # Si hay columnas con sufijos, eliminarlos\n",
    "    df.columns = [re.sub(r'\\.\\d+$', '', col) for col in df.columns]\n",
    "    print(\"Se eliminaron los sufijos numéricos de los encabezados.\")\n",
    "else:\n",
    "    print(\"No se encontraron sufijos numéricos en los encabezados.\")\n",
    "\n",
    "# Muestra las primeras filas del DataFrame para verificar\n",
    "print(df.head())"
   ]
  },
  {
   "cell_type": "code",
   "execution_count": null,
   "id": "918efba8",
   "metadata": {},
   "outputs": [],
   "source": []
  }
 ],
 "metadata": {
  "kernelspec": {
   "display_name": "Python 3 (ipykernel)",
   "language": "python",
   "name": "python3"
  },
  "language_info": {
   "codemirror_mode": {
    "name": "ipython",
    "version": 3
   },
   "file_extension": ".py",
   "mimetype": "text/x-python",
   "name": "python",
   "nbconvert_exporter": "python",
   "pygments_lexer": "ipython3",
   "version": "3.11.7"
  }
 },
 "nbformat": 4,
 "nbformat_minor": 5
}
