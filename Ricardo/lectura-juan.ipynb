{
 "cells": [
  {
   "cell_type": "markdown",
   "id": "170103b0",
   "metadata": {},
   "source": [
    "### IMPORTACIONES"
   ]
  },
  {
   "cell_type": "code",
   "execution_count": 1,
   "id": "1ebca0f4-6ccb-4b81-bfd4-b4c137b0f819",
   "metadata": {},
   "outputs": [],
   "source": [
    "import pandas as pd\n",
    "import matplotlib.pyplot as plt\n",
    "import re #regex para validar si existe subfijos\n",
    "from sklearn.preprocessing import StandardScaler\n",
    "import numpy as np"
   ]
  },
  {
   "cell_type": "markdown",
   "id": "0a320962-6177-4040-8293-a6d0225bd906",
   "metadata": {},
   "source": [
    "### LECTURA DE ARCHIVOS"
   ]
  },
  {
   "cell_type": "code",
   "execution_count": 2,
   "id": "696c7108",
   "metadata": {},
   "outputs": [
    {
     "name": "stdout",
     "output_type": "stream",
     "text": [
      "   Ramanshift  collagen  collagen.1  collagen.2  collagen.3  collagen.4  \\\n",
      "0     1801.26     0.117       0.123       0.098       0.097       0.115   \n",
      "1     1797.41     0.118       0.124       0.099       0.098       0.116   \n",
      "2     1793.55     0.119       0.124       0.100       0.098       0.117   \n",
      "3     1789.69     0.118       0.122       0.099       0.097       0.117   \n",
      "4     1785.84     0.118       0.121       0.099       0.096       0.116   \n",
      "\n",
      "   collagen.5  collagen.6  collagen.7  collagen.8  ...  DNA.100  DNA.101  \\\n",
      "0       0.129       0.130       0.144       0.129  ...    0.154    0.150   \n",
      "1       0.130       0.131       0.145       0.129  ...    0.154    0.152   \n",
      "2       0.131       0.132       0.145       0.130  ...    0.155    0.153   \n",
      "3       0.131       0.132       0.146       0.131  ...    0.155    0.154   \n",
      "4       0.130       0.131       0.146       0.131  ...    0.155    0.155   \n",
      "\n",
      "   DNA.102  DNA.103  DNA.104  DNA.105  DNA.106  DNA.107  DNA.108  DNA.109  \n",
      "0    0.154    0.164    0.157    0.158    0.152    0.147    0.139    0.148  \n",
      "1    0.155    0.164    0.158    0.160    0.153    0.147    0.140    0.149  \n",
      "2    0.156    0.165    0.160    0.161    0.154    0.148    0.141    0.150  \n",
      "3    0.157    0.165    0.160    0.163    0.155    0.149    0.142    0.151  \n",
      "4    0.157    0.166    0.160    0.163    0.155    0.149    0.143    0.151  \n",
      "\n",
      "[5 rows x 732 columns]\n"
     ]
    }
   ],
   "source": [
    "\n",
    "\n",
    "# Lee el archivo CSV\n",
    "df = pd.read_csv('limpio.csv')\n",
    "\n",
    "# Muestra las primeras filas del DataFrame para verificar\n",
    "print(df.head())\n"
   ]
  },
  {
   "cell_type": "markdown",
   "id": "37d2e095",
   "metadata": {},
   "source": [
    " ### Verificamos si se tiene los subfijos al leer el archivo"
   ]
  },
  {
   "cell_type": "code",
   "execution_count": 3,
   "id": "6da0c3c6",
   "metadata": {},
   "outputs": [
    {
     "name": "stdout",
     "output_type": "stream",
     "text": [
      "Se eliminaron los sufijos numéricos de los encabezados.\n",
      "   Ramanshift  collagen  collagen  collagen  collagen  collagen  collagen  \\\n",
      "0     1801.26     0.117     0.123     0.098     0.097     0.115     0.129   \n",
      "1     1797.41     0.118     0.124     0.099     0.098     0.116     0.130   \n",
      "2     1793.55     0.119     0.124     0.100     0.098     0.117     0.131   \n",
      "3     1789.69     0.118     0.122     0.099     0.097     0.117     0.131   \n",
      "4     1785.84     0.118     0.121     0.099     0.096     0.116     0.130   \n",
      "\n",
      "   collagen  collagen  collagen  ...    DNA    DNA    DNA    DNA    DNA  \\\n",
      "0     0.130     0.144     0.129  ...  0.154  0.150  0.154  0.164  0.157   \n",
      "1     0.131     0.145     0.129  ...  0.154  0.152  0.155  0.164  0.158   \n",
      "2     0.132     0.145     0.130  ...  0.155  0.153  0.156  0.165  0.160   \n",
      "3     0.132     0.146     0.131  ...  0.155  0.154  0.157  0.165  0.160   \n",
      "4     0.131     0.146     0.131  ...  0.155  0.155  0.157  0.166  0.160   \n",
      "\n",
      "     DNA    DNA    DNA    DNA    DNA  \n",
      "0  0.158  0.152  0.147  0.139  0.148  \n",
      "1  0.160  0.153  0.147  0.140  0.149  \n",
      "2  0.161  0.154  0.148  0.141  0.150  \n",
      "3  0.163  0.155  0.149  0.142  0.151  \n",
      "4  0.163  0.155  0.149  0.143  0.151  \n",
      "\n",
      "[5 rows x 732 columns]\n"
     ]
    }
   ],
   "source": [
    "if any(re.search(r'\\.\\d+$', col) for col in df.columns):\n",
    "    # Si hay columnas con sufijos, eliminarlos\n",
    "    df.columns = [re.sub(r'\\.\\d+$', '', col) for col in df.columns]\n",
    "    print(\"Se eliminaron los sufijos numéricos de los encabezados.\")\n",
    "# Muestra las primeras filas del DataFrame para verificar\n",
    "print(df.head())"
   ]
  },
  {
   "cell_type": "code",
   "execution_count": 4,
   "id": "918efba8",
   "metadata": {},
   "outputs": [
    {
     "name": "stdout",
     "output_type": "stream",
     "text": [
      "\n",
      "Encabezados únicos:\n",
      "Index(['Ramanshift', 'collagen', 'glycogen', 'lipids', 'DNA'], dtype='object')\n"
     ]
    }
   ],
   "source": [
    "unique_headers = df.columns.unique()\n",
    "print(\"\\nEncabezados únicos:\")\n",
    "print(unique_headers)\n",
    "\n",
    "# Identificar los tipos únicos de valores en los encabezados\n",
    "unique_types = set(col for col in df.columns if col != \"Ramanshift\")"
   ]
  },
  {
   "cell_type": "code",
   "execution_count": null,
   "id": "ae506a94-5230-4242-86ff-bcb332d1cf1f",
   "metadata": {},
   "outputs": [],
   "source": [
    "# Colores para cada tipo\n",
    "colors = plt.cm.tab20.colors  # Una paleta de colores suficientemente grande\n",
    "color_map = {unique: colors[i % len(colors)] for i, unique in enumerate(unique_types)}\n",
    "\n",
    "# Graficar cada tipo una sola vez en la leyenda\n",
    "plt.figure(figsize=(14, 10))\n",
    "\n",
    "for unique_type in unique_types:\n",
    "    # Filtrar las columnas correspondientes al tipo actual\n",
    "    columns = [col for col in df.columns if col.startswith(unique_type)]\n",
    "    \n",
    "    # Graficar todas las columnas del tipo actual\n",
    "    for col in columns:\n",
    "        plt.plot(df['Ramanshift'], df[col], color=color_map[unique_type], alpha=0.6)\n",
    "    \n",
    "    # Agregar una entrada en la leyenda solo para el tipo (una vez)\n",
    "    plt.plot([], [], label=unique_type, color=color_map[unique_type])  # Dummy plot for legend\n",
    "\n",
    "# Etiquetas y leyendas\n",
    "plt.title(\"Espectros Raman\", fontsize=16)\n",
    "plt.xlabel(\"Raman Shift (cm⁻¹)\", fontsize=14)\n",
    "plt.ylabel(\"Intensidad\", fontsize=14)\n",
    "plt.legend(title=\"Tipos\", fontsize=12, loc='upper right', frameon=False)\n",
    "plt.grid(True)\n",
    "\n",
    "# Mostrar la gráfica\n",
    "plt.show()"
   ]
  },
  {
   "cell_type": "markdown",
   "id": "154327d0",
   "metadata": {},
   "source": [
    "### En este caso pediremos al usuario ingresar algun tipo para graficar, para tener una idea de como se ve los espectros para cada uno de los tipos existentes en el archivo."
   ]
  },
  {
   "cell_type": "markdown",
   "id": "401b8b95",
   "metadata": {},
   "source": [
    "<div class=\"alert alert-block alert-info\">\n",
    "<b>PD:</b> Aqui solo se mostraran hasta 10 como cantidad maxima de columnas para tipo, es para una referencia y no tener una carga de datos excesiva \n",
    "</div>"
   ]
  },
  {
   "cell_type": "code",
   "execution_count": null,
   "id": "2fd222d5",
   "metadata": {},
   "outputs": [],
   "source": [
    "# Configurar el tipo de espectro que se desea graficar\n",
    "tipo_espectro = input(f\"Ingrese el tipo de espectro para graficar (opciones: {', '.join(unique_types)}): \").strip()\n",
    "\n",
    "# Filtrar las columnas correspondientes al tipo de espectro ingresado\n",
    "columnas_tipo = [col for col in df.columns if col.startswith(tipo_espectro)]\n",
    "\n",
    "if columnas_tipo:\n",
    "    # Limitar el número de columnas graficadas\n",
    "    max_columns = 10\n",
    "    columnas_tipo = columnas_tipo[:max_columns]\n",
    "\n",
    "    # Reducir la cantidad de datos graficados\n",
    "    sampled_df = df.iloc[::10, :]\n",
    "\n",
    "    # Crear la gráfica\n",
    "    plt.figure(figsize=(14, 8))\n",
    "\n",
    "    # Graficar todas las líneas sin leyenda\n",
    "    for col in columnas_tipo:\n",
    "        plt.plot(sampled_df['Ramanshift'], sampled_df[col], alpha=0.7)\n",
    "\n",
    "    # Añadir una entrada única en la leyenda para el tipo\n",
    "    plt.plot([], [], label=tipo_espectro, color='black') \n",
    "\n",
    "    # Etiquetas y leyenda\n",
    "    plt.title(f\"Espectro Raman - {tipo_espectro} (muestra de columnas y filas)\", fontsize=16)\n",
    "    plt.xlabel(\"Raman Shift (cm⁻¹)\", fontsize=14)\n",
    "    plt.ylabel(\"Intensidad\", fontsize=14)\n",
    "    plt.legend(title=\"Espectros\", fontsize=10, loc='upper right', frameon=False)\n",
    "    plt.grid(True)\n",
    "\n",
    "    # Mostrar la gráfica\n",
    "    plt.show()\n",
    "else:\n",
    "    print(f\"No se encontraron columnas para el tipo de espectro '{tipo_espectro}'. Verifique el nombre e intente nuevamente.\")\n"
   ]
  },
  {
   "cell_type": "markdown",
   "id": "ed2ed2c0",
   "metadata": {},
   "source": [
    "# Analisis PCA"
   ]
  },
  {
   "cell_type": "markdown",
   "id": "3a05093c",
   "metadata": {},
   "source": [
    "### ¿Por qué utilizar PCA en espectros?\n",
    "En datos espectroscópicos (como los Raman), los conjuntos de datos suelen tener alta dimensionalidad y las variables (picos) pueden estar correlacionadas. El PCA es útil porque:\n",
    "\n",
    "**Reduce la dimensionalidad:** Permite analizar un número menor de variables representativas. <br>\n",
    "**Captura patrones esenciales:** Identifica las características espectrales clave. <br>\n",
    "**Mejora la visualización:** Ayuda a visualizar datos complejos en gráficos 2D o 3D.  <br>\n",
    "**Preprocesamiento:** Facilita la clasificación o el análisis posterior (por ejemplo, identificación de muestras)."
   ]
  },
  {
   "cell_type": "markdown",
   "id": "00109167",
   "metadata": {},
   "source": [
    "<img src=pca-analysis.gif>\n"
   ]
  },
  {
   "cell_type": "markdown",
   "id": "1573d467",
   "metadata": {},
   "source": [
    "### Cálculo del PCA\n",
    "**Calcular la matriz de covarianza:** Representa cómo varían las variables juntas.<br>\n",
    "**Obtener los valores y vectores propios:** Los valores propios determinan la importancia (varianza explicada) de cada componente, y los vectores propios indican la dirección de los nuevos ejes. <br>\n",
    "**Proyección de los datos:** Transformar los datos originales en los nuevos ejes definidos por los componentes principales."
   ]
  },
  {
   "cell_type": "markdown",
   "id": "feea4ac0",
   "metadata": {},
   "source": [
    "### Aplicación práctica en espectros\n",
    "#### En espectros Raman:\n",
    "\n",
    "**Objetivo:** Identificar patrones comunes entre muestras (como grupos químicos) o distinguir diferencias entre ellas. <br>\n",
    "**Componentes principales:** Representan características espectrales clave que explican la mayoría de las variaciones entre los espectros. "
   ]
  },
  {
   "cell_type": "markdown",
   "id": "360ef353",
   "metadata": {},
   "source": [
    "<div class=\"alert alert-block alert-danger\">\n",
    "<b>Limitaciones PCA:</b> Es una técnica lineal, lo que significa que no captura relaciones no lineales en los datos.\n",
    "Los componentes principales pueden ser difíciles de interpretar físicamente.\n",
    "Depende de la correcta estandarización y limpieza de los datos.\n",
    "</div>\n",
    "\n"
   ]
  },
  {
   "cell_type": "markdown",
   "id": "b81cfbac",
   "metadata": {},
   "source": [
    "## Fundamento matemático \n",
    "\n",
    "### 1. Matriz de datos\n",
    "Dado un conjunto de datos con \n",
    "𝑚\n",
    "m muestras y \n",
    "𝑛\n",
    "n variables, representamos los datos en una matriz de datos \n",
    "𝑋\n",
    "X de tamaño \n",
    "𝑚\n",
    "×\n",
    "𝑛\n",
    "m×n:\n",
    "$$\n",
    "X = \n",
    "\\begin{bmatrix}\n",
    "x_{11} & x_{12} & \\dots & x_{1n} \\\\\n",
    "x_{21} & x_{22} & \\dots & x_{2n} \\\\\n",
    "\\vdots & \\vdots & \\ddots & \\vdots \\\\\n",
    "x_{m1} & x_{m2} & \\dots & x_{mn}\n",
    "\\end{bmatrix}\n",
    "$$\n",
    "\n",
    "Donde cada fila es una muestra, y cada columna es una variable (por ejemplo, la intensidad de un espectro en una longitud de onda específica).\n",
    "\n",
    "### 2. Estandarización\n",
    "El PCA requiere que las variables tengan media 0 y desviación estándar 1. Para ello, estandarizamos cada variable:\n",
    "\n",
    "$$\n",
    "z_{ij} = \\frac{x_{ij} - \\mu_j}{\\sigma_j}\n",
    "$$\n",
    "\n",
    "#### 1. Fórmula para estandarización de los datos\n",
    "\n",
    "$$\n",
    "z_{ij} = \\frac{x_{ij} - \\mu_j}{\\sigma_j}\n",
    "$$\n",
    "\n",
    "Donde:\n",
    "\n",
    "- \\( \\mu_j \\): Media de la variable \\( j \\).\n",
    "- \\( \\sigma_j \\): Desviación estándar de la variable \\( j \\).\n",
    "\n",
    "Esto nos da una nueva matriz \\( Z \\), estandarizada.\n",
    "\n",
    "---\n",
    "\n"
   ]
  },
  {
   "cell_type": "code",
   "execution_count": null,
   "id": "e8a30f71",
   "metadata": {},
   "outputs": [],
   "source": [
    "# Volver a realizar la estandarización con las columnas corregidas\n",
    "data_no_suffix = df.drop(columns=[\"Ramanshift\"])  # Eliminar la columna 'Ramanshift'\n",
    "\n",
    "# Estandarizar los datos nuevamente\n",
    "scaler = StandardScaler()\n",
    "data_standardized_no_suffix = scaler.fit_transform(data_no_suffix)\n",
    "\n",
    "\n",
    "# Convertir la matriz estandarizada en un DataFrame para inspección\n",
    "data_standardized_no_suffix_df = pd.DataFrame(data_standardized_no_suffix, columns=data_no_suffix.columns)\n",
    "\n",
    "# Mostrar las primeras filas del DataFrame estandarizado sin sufijos\n",
    "data_standardized_no_suffix_df.head()\n"
   ]
  },
  {
   "cell_type": "markdown",
   "id": "084ff7a6",
   "metadata": {},
   "source": [
    "### 3. Matriz de covarianza\n",
    "\n",
    "La matriz de covarianza mide cómo varían las variables entre sí:\n",
    "\n",
    "$$\n",
    "C = \\frac{1}{m - 1} Z^\\top Z\n",
    "$$\n",
    "\n",
    "Donde:\n",
    "\n",
    "- \\( C \\): Es la matriz de covarianza (\\( n \\times n \\)).\n",
    "- \\( Z^\\top \\): La transpuesta de la matriz estandarizada \\( Z \\).\n",
    "\n",
    "Cada elemento de \\( C \\), \\( c_{ij} \\), mide la covarianza entre las variables \\( i \\) y \\( j \\):\n",
    "\n",
    "$$\n",
    "c_{ij} = \\frac{1}{m-1} \\sum_{k=1}^m (z_{ki} - \\bar{z}_i)(z_{kj} - \\bar{z}_j)\n",
    "$$\n",
    "\n",
    "---\n",
    "\n"
   ]
  },
  {
   "cell_type": "code",
   "execution_count": null,
   "id": "a2c86d3f",
   "metadata": {},
   "outputs": [],
   "source": [
    "# Calcular la matriz de covarianza a partir de los datos estandarizados\n",
    "covariance_matrix = np.cov(data_standardized_no_suffix.T)\n",
    "\n",
    "# Convertir la matriz de covarianza a un DataFrame para visualización\n",
    "covariance_matrix_df = pd.DataFrame(\n",
    "    covariance_matrix,\n",
    "    index=data_no_suffix.columns,\n",
    "    columns=data_no_suffix.columns\n",
    ")\n",
    "\n",
    "# Mostrar las primeras filas de la matriz de covarianza\n",
    "covariance_matrix_df.head()\n"
   ]
  },
  {
   "cell_type": "markdown",
   "id": "c32b8d69",
   "metadata": {},
   "source": [
    "<div class=\"alert alert-block alert-info\">\n",
    "<b>Matriz De Covarianza Raman</b> Se ha calculado la matriz de covarianza a partir de los datos estandarizados. Esta matriz representa cómo varían las variables (columnas del espectro) entre sí.\n",
    "</div>\n",
    "\n"
   ]
  },
  {
   "cell_type": "markdown",
   "id": "8dcb2cc2",
   "metadata": {},
   "source": [
    "### 4. Descomposición en valores propios\n",
    "\n",
    "El PCA se basa en encontrar los vectores propios (\\( v \\)) y los valores propios (\\( \\lambda \\)) de la matriz de covarianza:\n",
    "\n",
    "$$\n",
    "C v = \\lambda v\n",
    "$$\n",
    "\n",
    "Donde:\n",
    "\n",
    "- \\( v \\): Es el vector propio (dirección del nuevo eje).\n",
    "- \\( \\lambda \\): Es el valor propio (cuánta varianza explica ese eje).\n",
    "\n",
    "Los valores propios están ordenados de mayor a menor y representan la cantidad de varianza explicada por cada componente principal.\n",
    "\n",
    "---"
   ]
  },
  {
   "cell_type": "code",
   "execution_count": null,
   "id": "92da524e-c628-432e-87c5-9c763a9c68d4",
   "metadata": {},
   "outputs": [],
   "source": [
    "# Descomposición en valores propios y vectores propios\n",
    "eigenvalues, eigenvectors = np.linalg.eig(covariance_matrix)\n",
    "\n",
    "# Convertir los valores propios en un DataFrame para inspección\n",
    "eigenvalues_df = pd.DataFrame(eigenvalues, columns=[\"Valor Propio\"])\n",
    "\n",
    "# Convertir los vectores propios en un DataFrame para inspección\n",
    "eigenvectors_df = pd.DataFrame(\n",
    "    eigenvectors,\n",
    "    index=data_no_suffix.columns,\n",
    "    columns=[f\"PC{i+1}\" for i in range(eigenvectors.shape[1])]\n",
    ")\n",
    "\n",
    "# Mostrar los valores propios y vectores propios\n",
    "eigenvalues_df.head()\n",
    "eigenvectors_df.head()\n"
   ]
  },
  {
   "cell_type": "markdown",
   "id": "2a8ed705-1eeb-4d38-a308-e506b0b689a3",
   "metadata": {},
   "source": [
    "*La descomposición en valores propios y vectores propios de la matriz de covarianza se ha realizado correctamente:*<br>\n",
    "**Valores propios (eigenvalues):** Indican la cantidad de varianza explicada por cada componente principal.<br>\n",
    "**Vectores propios (eigenvectors):** Representan las direcciones (ejes) de los nuevos componentes principales en el espacio original."
   ]
  },
  {
   "cell_type": "markdown",
   "id": "5315f3c6-7d58-45b1-8984-39f24fb0781d",
   "metadata": {},
   "source": [
    "### 5 Transformación de los datos\n",
    "\n",
    "Los datos originales se transforman proyectándolos en los ejes definidos por los vectores propios:\n",
    "\n",
    "$$\n",
    "T = Z V\n",
    "$$\n",
    "\n",
    "Donde:\n",
    "\n",
    "- \\( T \\): Matriz transformada (nuevos datos en el espacio de los componentes principales).\n",
    "- \\( V \\): Matriz cuyas columnas son los vectores propios (direcciones principales).\n",
    "\n",
    "Cada fila de \\( T \\) es la representación de una muestra en el espacio reducido.\n",
    "\n",
    "---"
   ]
  },
  {
   "cell_type": "code",
   "execution_count": null,
   "id": "b1c1b839-699d-4a83-a82b-3c9dbd78c768",
   "metadata": {},
   "outputs": [],
   "source": [
    "# Proyección de los datos originales en los ejes definidos por los componentes principales\n",
    "transformed_data = np.dot(data_standardized_no_suffix, eigenvectors)\n",
    "\n",
    "# Convertir los datos transformados en un DataFrame para inspección\n",
    "transformed_data_df = pd.DataFrame(\n",
    "    transformed_data,\n",
    "    columns=[f\"PC{i+1}\" for i in range(transformed_data.shape[1])]\n",
    ")\n",
    "\n",
    "# Mostrar los primeros datos transformados\n",
    "transformed_data_df.head()\n"
   ]
  },
  {
   "cell_type": "markdown",
   "id": "5b51e995-7fcb-4e37-8a1e-73cd4061d5b8",
   "metadata": {},
   "source": [
    "*Resultados:* <br>\n",
    "**Cada fila:** Representa una muestra en el espacio PCA. <br>\n",
    "**Cada columna (PC1, PC2, ...):** Representa un componente principal."
   ]
  },
  {
   "cell_type": "markdown",
   "id": "bdedce14-c4aa-4c79-add1-5e865c4dbe3e",
   "metadata": {},
   "source": [
    "### 6. Varianza explicada\n",
    "\n",
    "La proporción de varianza explicada por cada componente principal es:\n",
    "\n",
    "$$\n",
    "\\text{Varianza explicada} = \\frac{\\lambda_i}{\\sum \\lambda}\n",
    "$$\n",
    "\n",
    "Esto nos dice cuánto contribuye cada componente principal a la variabilidad total de los datos."
   ]
  },
  {
   "cell_type": "code",
   "execution_count": null,
   "id": "8193ece6-8c55-407d-a307-2966a6974fbb",
   "metadata": {},
   "outputs": [],
   "source": [
    "# Calcular la varianza explicada por cada componente principal\n",
    "explained_variance = eigenvalues / np.sum(eigenvalues)\n",
    "\n",
    "# Calcular la varianza acumulada\n",
    "cumulative_variance = np.cumsum(explained_variance)\n",
    "\n",
    "pc1 = transformed_data[:, 0]\n",
    "pc2 = transformed_data[:, 1]\n",
    "\n",
    "# Crear un gráfico de dispersión utilizando PC1 y PC2\n",
    "#plt.figure(figsize=(10, 6))\n",
    "#plt.scatter(pc1, pc2, alpha=0.7, edgecolor='k')\n",
    "#plt.xlabel(\"Componente Principal 1 (PC1)\", fontsize=14)\n",
    "#plt.ylabel(\"Componente Principal 2 (PC2)\", fontsize=14)\n",
    "#plt.title(\"Proyección de Espectros en el Espacio PCA\", fontsize=16)\n",
    "#plt.grid(True)"
   ]
  },
  {
   "cell_type": "code",
   "execution_count": null,
   "id": "a8df87d4-264a-44eb-8de8-e7cb5753a7fe",
   "metadata": {},
   "outputs": [],
   "source": [
    "from sklearn.decomposition import PCA\n",
    "from sklearn.preprocessing import StandardScaler\n",
    "import matplotlib.pyplot as plt\n",
    "\n",
    "# Leer el archivo CSV y excluir la primera columna (ejemplo: Ramanshift)\n",
    "data = df.iloc[:, 1:]\n",
    "\n",
    "# Escalar los datos\n",
    "scaler = StandardScaler()\n",
    "data_scaled = scaler.fit_transform(data.T)  # Transposición para que las características sean columnas\n",
    "\n",
    "# Aplicar PCA\n",
    "pca = PCA(n_components=2)\n",
    "pca_result = pca.fit_transform(data_scaled)\n",
    "\n",
    "# Graficar el PCA\n",
    "plt.figure(figsize=(10, 6))\n",
    "plt.scatter(pca_result[:, 0], pca_result[:, 1], alpha=0.7, edgecolor='k')\n",
    "plt.xlabel('Componente Principal 1', fontsize=14)\n",
    "plt.ylabel('Componente Principal 2', fontsize=14)\n",
    "plt.title('Proyección PCA del archivo CSV', fontsize=16)\n",
    "plt.grid(True)\n",
    "plt.show()"
   ]
  }
 ],
 "metadata": {
  "kernelspec": {
   "display_name": "Python 3 (ipykernel)",
   "language": "python",
   "name": "python3"
  },
  "language_info": {
   "codemirror_mode": {
    "name": "ipython",
    "version": 3
   },
   "file_extension": ".py",
   "mimetype": "text/x-python",
   "name": "python",
   "nbconvert_exporter": "python",
   "pygments_lexer": "ipython3",
   "version": "3.12.5"
  }
 },
 "nbformat": 4,
 "nbformat_minor": 5
}
