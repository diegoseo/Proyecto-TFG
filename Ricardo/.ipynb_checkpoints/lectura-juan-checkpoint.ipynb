{
 "cells": [
  {
   "cell_type": "markdown",
   "id": "170103b0",
   "metadata": {},
   "source": [
    "    IMPORTACIONES"
   ]
  },
  {
   "cell_type": "code",
   "execution_count": 1,
   "id": "1ebca0f4-6ccb-4b81-bfd4-b4c137b0f819",
   "metadata": {},
   "outputs": [],
   "source": [
    "import pandas as pd\n",
    "import matplotlib.pyplot as plt\n",
    "import re #regex para validar si existe subfijos"
   ]
  },
  {
   "cell_type": "markdown",
   "id": "0a320962-6177-4040-8293-a6d0225bd906",
   "metadata": {},
   "source": [
    "    LECTURA DE ARCHIVOS"
   ]
  },
  {
   "cell_type": "code",
   "execution_count": 3,
   "id": "696c7108",
   "metadata": {},
   "outputs": [
    {
     "name": "stdout",
     "output_type": "stream",
     "text": [
      "   Raman Shift  \\t\\nIbuprofen  \\t\\nIbuprofen.1  \\t\\nIbuprofen.2  \\\n",
      "0       148.32        65535.0          65535.0          65535.0   \n",
      "1       150.70        65535.0          54614.6          65535.0   \n",
      "2       153.07        55757.7          45402.1          65535.0   \n",
      "3       155.45        49374.4          40244.8          65535.0   \n",
      "4       157.82        44661.4          37004.7          64471.2   \n",
      "\n",
      "   \\t\\nIbuprofen.3  \\t\\nIbuprofen.4  \\t\\nIbuprofen.5  \\t\\nIbuprofen.6  \\\n",
      "0          43015.9          65535.0          65535.0          65535.0   \n",
      "1          33665.1          65535.0          58117.3          57304.1   \n",
      "2          28558.9          65535.0          49135.9          47529.2   \n",
      "3          25767.4          65380.3          44340.6          41978.7   \n",
      "4          24087.1          62756.6          40736.1          38061.3   \n",
      "\n",
      "   \\t\\nIbuprofen.7  \\t\\nIbuprofen.8  ...  \\t\\nParacetamol.40  \\\n",
      "0          61357.8          65535.0  ...             46944.4   \n",
      "1          48857.1          56626.2  ...             44731.8   \n",
      "2          41316.2          48286.4  ...             39078.9   \n",
      "3          37322.1          43471.4  ...             32700.0   \n",
      "4          34397.6          40178.5  ...             27439.3   \n",
      "\n",
      "   \\t\\nParacetamol.41  \\t\\nParacetamol.42  \\t\\nParacetamol.43  \\\n",
      "0             32195.8             48782.8             48974.7   \n",
      "1             30382.3             46050.5             46312.1   \n",
      "2             26651.7             40515.6             40305.1   \n",
      "3             22745.6             34466.1             34268.9   \n",
      "4             19357.1             29010.3             28656.3   \n",
      "\n",
      "   \\t\\nParacetamol.44  \\t\\nParacetamol.45  \\t\\nParacetamol.46  \\\n",
      "0             50308.7             57732.3             63679.9   \n",
      "1             47674.9             54806.8             60784.4   \n",
      "2             41459.6             48197.5             53751.2   \n",
      "3             34983.3             40834.6             45595.1   \n",
      "4             29361.6             34118.2             38492.0   \n",
      "\n",
      "   \\t\\nParacetamol.47  \\t\\nParacetamol.48  \\t\\nParacetamol.49  \n",
      "0             56842.5             45679.2            39069.64  \n",
      "1             53807.8             42980.5            36849.10  \n",
      "2             47202.7             37615.9            32093.32  \n",
      "3             40157.1             32108.0            26990.30  \n",
      "4             33889.8             27093.6            22732.82  \n",
      "\n",
      "[5 rows x 151 columns]\n"
     ]
    }
   ],
   "source": [
    "\n",
    "\n",
    "# Lee el archivo CSV\n",
    "df = pd.read_csv('limpio.csv')\n",
    "\n",
    "# Muestra las primeras filas del DataFrame para verificar\n",
    "print(df.head())\n"
   ]
  },
  {
   "cell_type": "markdown",
   "id": "37d2e095",
   "metadata": {},
   "source": [
    "    Verificamos si se tiene los subfijos al leer el archivo"
   ]
  },
  {
   "cell_type": "code",
   "execution_count": 9,
   "id": "6da0c3c6",
   "metadata": {},
   "outputs": [
    {
     "name": "stdout",
     "output_type": "stream",
     "text": [
      "Se eliminaron los caracteres '\\t' y '\\n' de los encabezados.\n",
      "   Raman Shift  Ibuprofen  Ibuprofen  Ibuprofen  Ibuprofen  Ibuprofen  \\\n",
      "0       148.32    65535.0    65535.0    65535.0    43015.9    65535.0   \n",
      "1       150.70    65535.0    54614.6    65535.0    33665.1    65535.0   \n",
      "2       153.07    55757.7    45402.1    65535.0    28558.9    65535.0   \n",
      "3       155.45    49374.4    40244.8    65535.0    25767.4    65380.3   \n",
      "4       157.82    44661.4    37004.7    64471.2    24087.1    62756.6   \n",
      "\n",
      "   Ibuprofen  Ibuprofen  Ibuprofen  Ibuprofen  ...  Paracetamol  Paracetamol  \\\n",
      "0    65535.0    65535.0    61357.8    65535.0  ...      46944.4      32195.8   \n",
      "1    58117.3    57304.1    48857.1    56626.2  ...      44731.8      30382.3   \n",
      "2    49135.9    47529.2    41316.2    48286.4  ...      39078.9      26651.7   \n",
      "3    44340.6    41978.7    37322.1    43471.4  ...      32700.0      22745.6   \n",
      "4    40736.1    38061.3    34397.6    40178.5  ...      27439.3      19357.1   \n",
      "\n",
      "   Paracetamol  Paracetamol  Paracetamol  Paracetamol  Paracetamol  \\\n",
      "0      48782.8      48974.7      50308.7      57732.3      63679.9   \n",
      "1      46050.5      46312.1      47674.9      54806.8      60784.4   \n",
      "2      40515.6      40305.1      41459.6      48197.5      53751.2   \n",
      "3      34466.1      34268.9      34983.3      40834.6      45595.1   \n",
      "4      29010.3      28656.3      29361.6      34118.2      38492.0   \n",
      "\n",
      "   Paracetamol  Paracetamol  Paracetamol  \n",
      "0      56842.5      45679.2     39069.64  \n",
      "1      53807.8      42980.5     36849.10  \n",
      "2      47202.7      37615.9     32093.32  \n",
      "3      40157.1      32108.0     26990.30  \n",
      "4      33889.8      27093.6     22732.82  \n",
      "\n",
      "[5 rows x 151 columns]\n"
     ]
    }
   ],
   "source": [
    "if any(re.search(r'\\.\\d+$', col) for col in df.columns):\n",
    "    # Si hay columnas con sufijos, eliminarlos\n",
    "    df.columns = [re.sub(r'\\.\\d+$', '', col) for col in df.columns]\n",
    "    print(\"Se eliminaron los sufijos numéricos de los encabezados.\")\n",
    "if any(re.search(r'[\\t\\n]', col) for col in df.columns):\n",
    "    df.columns = [re.sub(r'[\\t\\n]', '', col) for col in df.columns]\n",
    "    print(\"Se eliminaron los caracteres '\\\\t' y '\\\\n' de los encabezados.\")\n",
    "else:\n",
    "    print(\"No se encontraron sufijos numéricos en los encabezados.\")\n",
    "\n",
    "\n",
    "# Muestra las primeras filas del DataFrame para verificar\n",
    "print(df.head())"
   ]
  },
  {
   "cell_type": "code",
   "execution_count": 5,
   "id": "918efba8",
   "metadata": {},
   "outputs": [
    {
     "name": "stdout",
     "output_type": "stream",
     "text": [
      "\n",
      "Encabezados únicos:\n",
      "Index(['Raman Shift', '\\t\\nIbuprofen', 'Acetylsalicylic-acid',\n",
      "       '\\t\\nParacetamol'],\n",
      "      dtype='object')\n"
     ]
    }
   ],
   "source": [
    "unique_headers = df.columns.unique()\n",
    "print(\"\\nEncabezados únicos:\")\n",
    "print(unique_headers)\n",
    "\n",
    "# Identificar los tipos únicos de valores en los encabezados\n",
    "unique_types = set(col for col in df.columns if col != \"Ramanshift\")"
   ]
  },
  {
   "cell_type": "code",
   "execution_count": 6,
   "id": "ae506a94-5230-4242-86ff-bcb332d1cf1f",
   "metadata": {},
   "outputs": [
    {
     "ename": "KeyError",
     "evalue": "'Ramanshift'",
     "output_type": "error",
     "traceback": [
      "\u001b[0;31m---------------------------------------------------------------------------\u001b[0m",
      "\u001b[0;31mKeyError\u001b[0m                                  Traceback (most recent call last)",
      "File \u001b[0;32m/opt/anaconda3/envs/dp/lib/python3.11/site-packages/pandas/core/indexes/base.py:3805\u001b[0m, in \u001b[0;36mIndex.get_loc\u001b[0;34m(self, key)\u001b[0m\n\u001b[1;32m   3804\u001b[0m \u001b[38;5;28;01mtry\u001b[39;00m:\n\u001b[0;32m-> 3805\u001b[0m     \u001b[38;5;28;01mreturn\u001b[39;00m \u001b[38;5;28mself\u001b[39m\u001b[38;5;241m.\u001b[39m_engine\u001b[38;5;241m.\u001b[39mget_loc(casted_key)\n\u001b[1;32m   3806\u001b[0m \u001b[38;5;28;01mexcept\u001b[39;00m \u001b[38;5;167;01mKeyError\u001b[39;00m \u001b[38;5;28;01mas\u001b[39;00m err:\n",
      "File \u001b[0;32mindex.pyx:167\u001b[0m, in \u001b[0;36mpandas._libs.index.IndexEngine.get_loc\u001b[0;34m()\u001b[0m\n",
      "File \u001b[0;32mindex.pyx:191\u001b[0m, in \u001b[0;36mpandas._libs.index.IndexEngine.get_loc\u001b[0;34m()\u001b[0m\n",
      "File \u001b[0;32mindex.pyx:234\u001b[0m, in \u001b[0;36mpandas._libs.index.IndexEngine._get_loc_duplicates\u001b[0;34m()\u001b[0m\n",
      "File \u001b[0;32mindex.pyx:242\u001b[0m, in \u001b[0;36mpandas._libs.index.IndexEngine._maybe_get_bool_indexer\u001b[0;34m()\u001b[0m\n",
      "File \u001b[0;32mindex.pyx:134\u001b[0m, in \u001b[0;36mpandas._libs.index._unpack_bool_indexer\u001b[0;34m()\u001b[0m\n",
      "\u001b[0;31mKeyError\u001b[0m: 'Ramanshift'",
      "\nThe above exception was the direct cause of the following exception:\n",
      "\u001b[0;31mKeyError\u001b[0m                                  Traceback (most recent call last)",
      "Cell \u001b[0;32mIn[6], line 20\u001b[0m\n\u001b[1;32m     18\u001b[0m         \u001b[38;5;28;01melse\u001b[39;00m:\n\u001b[1;32m     19\u001b[0m             label \u001b[38;5;241m=\u001b[39m \u001b[38;5;28;01mNone\u001b[39;00m\n\u001b[0;32m---> 20\u001b[0m         plt\u001b[38;5;241m.\u001b[39mplot(df[\u001b[38;5;124m'\u001b[39m\u001b[38;5;124mRamanshift\u001b[39m\u001b[38;5;124m'\u001b[39m], df[col], label\u001b[38;5;241m=\u001b[39mlabel, color\u001b[38;5;241m=\u001b[39mcolor_map[unique_type], alpha\u001b[38;5;241m=\u001b[39m\u001b[38;5;241m0.6\u001b[39m)\n\u001b[1;32m     22\u001b[0m \u001b[38;5;66;03m# Etiquetas y leyendas\u001b[39;00m\n\u001b[1;32m     23\u001b[0m plt\u001b[38;5;241m.\u001b[39mtitle(\u001b[38;5;124m\"\u001b[39m\u001b[38;5;124mEspectros Raman\u001b[39m\u001b[38;5;124m\"\u001b[39m, fontsize\u001b[38;5;241m=\u001b[39m\u001b[38;5;241m16\u001b[39m)\n",
      "File \u001b[0;32m/opt/anaconda3/envs/dp/lib/python3.11/site-packages/pandas/core/frame.py:4102\u001b[0m, in \u001b[0;36mDataFrame.__getitem__\u001b[0;34m(self, key)\u001b[0m\n\u001b[1;32m   4100\u001b[0m \u001b[38;5;28;01mif\u001b[39;00m \u001b[38;5;28mself\u001b[39m\u001b[38;5;241m.\u001b[39mcolumns\u001b[38;5;241m.\u001b[39mnlevels \u001b[38;5;241m>\u001b[39m \u001b[38;5;241m1\u001b[39m:\n\u001b[1;32m   4101\u001b[0m     \u001b[38;5;28;01mreturn\u001b[39;00m \u001b[38;5;28mself\u001b[39m\u001b[38;5;241m.\u001b[39m_getitem_multilevel(key)\n\u001b[0;32m-> 4102\u001b[0m indexer \u001b[38;5;241m=\u001b[39m \u001b[38;5;28mself\u001b[39m\u001b[38;5;241m.\u001b[39mcolumns\u001b[38;5;241m.\u001b[39mget_loc(key)\n\u001b[1;32m   4103\u001b[0m \u001b[38;5;28;01mif\u001b[39;00m is_integer(indexer):\n\u001b[1;32m   4104\u001b[0m     indexer \u001b[38;5;241m=\u001b[39m [indexer]\n",
      "File \u001b[0;32m/opt/anaconda3/envs/dp/lib/python3.11/site-packages/pandas/core/indexes/base.py:3812\u001b[0m, in \u001b[0;36mIndex.get_loc\u001b[0;34m(self, key)\u001b[0m\n\u001b[1;32m   3807\u001b[0m     \u001b[38;5;28;01mif\u001b[39;00m \u001b[38;5;28misinstance\u001b[39m(casted_key, \u001b[38;5;28mslice\u001b[39m) \u001b[38;5;129;01mor\u001b[39;00m (\n\u001b[1;32m   3808\u001b[0m         \u001b[38;5;28misinstance\u001b[39m(casted_key, abc\u001b[38;5;241m.\u001b[39mIterable)\n\u001b[1;32m   3809\u001b[0m         \u001b[38;5;129;01mand\u001b[39;00m \u001b[38;5;28many\u001b[39m(\u001b[38;5;28misinstance\u001b[39m(x, \u001b[38;5;28mslice\u001b[39m) \u001b[38;5;28;01mfor\u001b[39;00m x \u001b[38;5;129;01min\u001b[39;00m casted_key)\n\u001b[1;32m   3810\u001b[0m     ):\n\u001b[1;32m   3811\u001b[0m         \u001b[38;5;28;01mraise\u001b[39;00m InvalidIndexError(key)\n\u001b[0;32m-> 3812\u001b[0m     \u001b[38;5;28;01mraise\u001b[39;00m \u001b[38;5;167;01mKeyError\u001b[39;00m(key) \u001b[38;5;28;01mfrom\u001b[39;00m \u001b[38;5;21;01merr\u001b[39;00m\n\u001b[1;32m   3813\u001b[0m \u001b[38;5;28;01mexcept\u001b[39;00m \u001b[38;5;167;01mTypeError\u001b[39;00m:\n\u001b[1;32m   3814\u001b[0m     \u001b[38;5;66;03m# If we have a listlike key, _check_indexing_error will raise\u001b[39;00m\n\u001b[1;32m   3815\u001b[0m     \u001b[38;5;66;03m#  InvalidIndexError. Otherwise we fall through and re-raise\u001b[39;00m\n\u001b[1;32m   3816\u001b[0m     \u001b[38;5;66;03m#  the TypeError.\u001b[39;00m\n\u001b[1;32m   3817\u001b[0m     \u001b[38;5;28mself\u001b[39m\u001b[38;5;241m.\u001b[39m_check_indexing_error(key)\n",
      "\u001b[0;31mKeyError\u001b[0m: 'Ramanshift'"
     ]
    },
    {
     "data": {
      "text/plain": [
       "<Figure size 1400x1000 with 0 Axes>"
      ]
     },
     "metadata": {},
     "output_type": "display_data"
    }
   ],
   "source": [
    "# Colores para cada tipo\n",
    "colors = plt.cm.tab20.colors  # Una paleta de colores suficientemente grande\n",
    "color_map = {unique: colors[i % len(colors)] for i, unique in enumerate(unique_types)}\n",
    "\n",
    "# Graficar cada columna según el tipo\n",
    "plt.figure(figsize=(14, 10))\n",
    "\n",
    "# Controlar los labels para cada tipo\n",
    "already_plotted = set()\n",
    "\n",
    "for col in df.columns:\n",
    "    if col != \"Ramanshift\":\n",
    "        unique_type = col  # Obtener el tipo sin sufijo\n",
    "        # Agregar label solo para el primer gráfico de cada tipo\n",
    "        if unique_type not in already_plotted:\n",
    "            label = unique_type\n",
    "            already_plotted.add(unique_type)\n",
    "        else:\n",
    "            label = None\n",
    "        plt.plot(df['Ramanshift'], df[col], label=label, color=color_map[unique_type], alpha=0.6)\n",
    "\n",
    "# Etiquetas y leyendas\n",
    "plt.title(\"Espectros Raman\", fontsize=16)\n",
    "plt.xlabel(\"Raman Shift (cm⁻¹)\", fontsize=14)\n",
    "plt.ylabel(\"Intensidad\", fontsize=14)\n",
    "plt.legend(title=\"Tipos\", fontsize=12, loc='upper right', frameon=False)\n",
    "plt.grid(True)\n",
    "\n",
    "# Mostrar la gráfica\n",
    "plt.show()"
   ]
  },
  {
   "cell_type": "code",
   "execution_count": null,
   "id": "e68adac8-c0e7-4eb3-9c21-b03bb79dd877",
   "metadata": {},
   "outputs": [],
   "source": []
  },
  {
   "cell_type": "code",
   "execution_count": null,
   "id": "e930f51a-56f8-48c0-8cb8-ac70e4754022",
   "metadata": {},
   "outputs": [],
   "source": []
  }
 ],
 "metadata": {
  "kernelspec": {
   "display_name": "Python 3 (ipykernel)",
   "language": "python",
   "name": "python3"
  },
  "language_info": {
   "codemirror_mode": {
    "name": "ipython",
    "version": 3
   },
   "file_extension": ".py",
   "mimetype": "text/x-python",
   "name": "python",
   "nbconvert_exporter": "python",
   "pygments_lexer": "ipython3",
   "version": "3.11.9"
  }
 },
 "nbformat": 4,
 "nbformat_minor": 5
}
